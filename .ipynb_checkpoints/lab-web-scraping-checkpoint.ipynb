{
 "cells": [
  {
   "cell_type": "markdown",
   "id": "7e7a1ab8-2599-417d-9a65-25ef07f3a786",
   "metadata": {
    "id": "7e7a1ab8-2599-417d-9a65-25ef07f3a786"
   },
   "source": [
    "# Lab | Web Scraping"
   ]
  },
  {
   "cell_type": "markdown",
   "id": "ce8882fc-4815-4567-92fa-b4816358ba7d",
   "metadata": {
    "id": "ce8882fc-4815-4567-92fa-b4816358ba7d"
   },
   "source": [
    "Welcome to the \"Books to Scrape\" Web Scraping Adventure Lab!\n",
    "\n",
    "**Objective**\n",
    "\n",
    "In this lab, we will embark on a mission to unearth valuable insights from the data available on Books to Scrape, an online platform showcasing a wide variety of books. As data analyst, you have been tasked with scraping a specific subset of book data from Books to Scrape to assist publishing companies in understanding the landscape of highly-rated books across different genres. Your insights will help shape future book marketing strategies and publishing decisions.\n",
    "\n",
    "**Background**\n",
    "\n",
    "In a world where data has become the new currency, businesses are leveraging big data to make informed decisions that drive success and profitability. The publishing industry, much like others, utilizes data analytics to understand market trends, reader preferences, and the performance of books based on factors such as genre, author, and ratings. Books to Scrape serves as a rich source of such data, offering detailed information about a diverse range of books, making it an ideal platform for extracting insights to aid in informed decision-making within the literary world.\n",
    "\n",
    "**Task**\n",
    "\n",
    "Your task is to create a Python script using BeautifulSoup and pandas to scrape Books to Scrape book data, focusing on book ratings and genres. The script should be able to filter books with ratings above a certain threshold and in specific genres. Additionally, the script should structure the scraped data in a tabular format using pandas for further analysis.\n",
    "\n",
    "**Expected Outcome**\n",
    "\n",
    "A function named `scrape_books` that takes two parameters: `min_rating` and `max_price`. The function should scrape book data from the \"Books to Scrape\" website and return a `pandas` DataFrame with the following columns:\n",
    "\n",
    "**Expected Outcome**\n",
    "\n",
    "- A function named `scrape_books` that takes two parameters: `min_rating` and `max_price`.\n",
    "- The function should return a DataFrame with the following columns:\n",
    "  - **UPC**: The Universal Product Code (UPC) of the book.\n",
    "  - **Title**: The title of the book.\n",
    "  - **Price (£)**: The price of the book in pounds.\n",
    "  - **Rating**: The rating of the book (1-5 stars).\n",
    "  - **Genre**: The genre of the book.\n",
    "  - **Availability**: Whether the book is in stock or not.\n",
    "  - **Description**: A brief description or product description of the book (if available).\n",
    "  \n",
    "You will execute this script to scrape data for books with a minimum rating of `4.0 and above` and a maximum price of `£20`. \n",
    "\n",
    "Remember to experiment with different ratings and prices to ensure your code is versatile and can handle various searches effectively!\n",
    "\n",
    "**Resources**\n",
    "\n",
    "- [Beautiful Soup Documentation](https://www.crummy.com/software/BeautifulSoup/bs4/doc/)\n",
    "- [Pandas Documentation](https://pandas.pydata.org/pandas-docs/stable/index.html)\n",
    "- [Books to Scrape](https://books.toscrape.com/)\n"
   ]
  },
  {
   "cell_type": "markdown",
   "id": "3519921d-5890-445b-9a33-934ed8ee378c",
   "metadata": {
    "id": "3519921d-5890-445b-9a33-934ed8ee378c"
   },
   "source": [
    "**Hint**\n",
    "\n",
    "Your first mission is to familiarize yourself with the **Books to Scrape** website. Navigate to [Books to Scrape](http://books.toscrape.com/) and explore the available books to understand their layout and structure. \n",
    "\n",
    "Next, think about how you can set parameters for your data extraction:\n",
    "\n",
    "- **Minimum Rating**: Focus on books with a rating of 4.0 and above.\n",
    "- **Maximum Price**: Filter for books priced up to £20.\n",
    "\n",
    "After reviewing the site, you can construct a plan for scraping relevant data. Pay attention to the details displayed for each book, including the title, price, rating, and availability. This will help you identify the correct HTML elements to target with your scraping script.\n",
    "\n",
    "Make sure to build your scraping URL and logic based on the patterns you observe in the HTML structure of the book listings!"
   ]
  },
  {
   "cell_type": "markdown",
   "id": "25a83a0d-a742-49f6-985e-e27887cbf922",
   "metadata": {
    "id": "25a83a0d-a742-49f6-985e-e27887cbf922"
   },
   "source": [
    "\n",
    "---\n",
    "\n",
    "**Best of luck! Immerse yourself in the world of books, and may the data be with you!**"
   ]
  },
  {
   "cell_type": "markdown",
   "id": "7b75cf0d-9afa-4eec-a9e2-befeac68b2a0",
   "metadata": {
    "id": "7b75cf0d-9afa-4eec-a9e2-befeac68b2a0"
   },
   "source": [
    "**Important Note**:\n",
    "\n",
    "In the fast-changing online world, websites often update and change their structures. When you try this lab, the **Books to Scrape** website might differ from what you expect.\n",
    "\n",
    "If you encounter issues due to these changes, like new rules or obstacles preventing data extraction, don’t worry! Get creative.\n",
    "\n",
    "You can choose another website that interests you and is suitable for scraping data. Options like Wikipedia, The New York Times, or even library databases are great alternatives. The main goal remains the same: extract useful data and enhance your web scraping skills while exploring a source of information you enjoy. This is your opportunity to practice and adapt to different web environments!"
   ]
  },
  {
   "cell_type": "code",
   "execution_count": 457,
   "id": "40359eee-9cd7-4884-bfa4-83344c222305",
   "metadata": {
    "id": "40359eee-9cd7-4884-bfa4-83344c222305"
   },
   "outputs": [
    {
     "data": {
      "text/plain": [
       "200"
      ]
     },
     "execution_count": 457,
     "metadata": {},
     "output_type": "execute_result"
    }
   ],
   "source": [
    "# Your solution goes here\n",
    "\n",
    "import requests\n",
    "url = 'https://books.toscrape.com/'\n",
    "response = requests.get(url)\n",
    "response.status_code"
   ]
  },
  {
   "cell_type": "code",
   "execution_count": 477,
   "id": "9427b467-c853-4488-ad0a-747996cf00d2",
   "metadata": {},
   "outputs": [
    {
     "data": {
      "text/html": [
       "<div>\n",
       "<style scoped>\n",
       "    .dataframe tbody tr th:only-of-type {\n",
       "        vertical-align: middle;\n",
       "    }\n",
       "\n",
       "    .dataframe tbody tr th {\n",
       "        vertical-align: top;\n",
       "    }\n",
       "\n",
       "    .dataframe thead th {\n",
       "        text-align: right;\n",
       "    }\n",
       "</style>\n",
       "<table border=\"1\" class=\"dataframe\">\n",
       "  <thead>\n",
       "    <tr style=\"text-align: right;\">\n",
       "      <th></th>\n",
       "      <th>Product Name</th>\n",
       "      <th>Price (£)</th>\n",
       "      <th>Availability</th>\n",
       "      <th>Rating</th>\n",
       "      <th>Genre</th>\n",
       "      <th>UPC</th>\n",
       "      <th>Description</th>\n",
       "    </tr>\n",
       "  </thead>\n",
       "  <tbody>\n",
       "    <tr>\n",
       "      <th>12</th>\n",
       "      <td>Set Me Free</td>\n",
       "      <td>17.46</td>\n",
       "      <td>In stock</td>\n",
       "      <td>5</td>\n",
       "      <td>Young Adult</td>\n",
       "      <td>ce6396b0f23f6ecc</td>\n",
       "      <td>Aaron Ledbetter’s future had been planned out ...</td>\n",
       "    </tr>\n",
       "  </tbody>\n",
       "</table>\n",
       "</div>"
      ],
      "text/plain": [
       "   Product Name  Price (£) Availability  Rating        Genre  \\\n",
       "12  Set Me Free      17.46     In stock       5  Young Adult   \n",
       "\n",
       "                 UPC                                        Description  \n",
       "12  ce6396b0f23f6ecc  Aaron Ledbetter’s future had been planned out ...  "
      ]
     },
     "execution_count": 477,
     "metadata": {},
     "output_type": "execute_result"
    }
   ],
   "source": [
    "from bs4 import BeautifulSoup\n",
    "import pandas as pd\n",
    "\n",
    "def scrape_books(min_rating,max_price):\n",
    "    soup = BeautifulSoup(response.content, 'html.parser')\n",
    "    components = soup.find('ol', class_='row').find_all('li')\n",
    "    page_url = url + '/page-1'\n",
    "    \n",
    "    product_names = []\n",
    "    product_prices = []\n",
    "    in_stock = []\n",
    "    ratings = []\n",
    "    genre = []\n",
    "    upc = []\n",
    "    description = []\n",
    "    \n",
    "    for component in components:\n",
    "        # Handling next pages\n",
    "        next_page = component.find('a').text.strip()\n",
    "        next_page_url = url + component.find('a')['href']  # Correct URL concatenation\n",
    "        response_next_page = requests.get(next_page_url)\n",
    "        soup_next = BeautifulSoup(response_next_page.content, 'html.parser')\n",
    "        \n",
    "        # Extract Book Name\n",
    "        product_name = component.find('img').get('alt')\n",
    "        product_names.append(product_name)\n",
    "    \n",
    "        # Extract Price\n",
    "        product_price = component.find('p', class_='price_color').text.strip().replace(\"£\", \"\")\n",
    "        product_prices.append(float(product_price))\n",
    "    \n",
    "        # Extract Genre\n",
    "        genre_next_page = soup_next.find('ul', class_='breadcrumb')\n",
    "        genre_link = genre_next_page.find_all('a')\n",
    "        product_genre = genre_link[2].text.strip() if len(genre_link) > 2 else None\n",
    "        genre.append(product_genre)\n",
    "        \n",
    "        # Extract UPC\n",
    "        upc_next_page = soup_next.find('article', class_='product_page')\n",
    "        upc_item = upc_next_page.find('tr').text.strip().replace(\"UPC\", \"\") if upc_next_page else None\n",
    "        upc.append(upc_item)\n",
    "    \n",
    "        # Extract Rating\n",
    "        rating = component.find('p', class_='star-rating')\n",
    "        product_rating = rating.get('class')[1] if rating else None\n",
    "        ratings.append(product_rating)\n",
    "        \n",
    "        # Extract Availability\n",
    "        product_availability = component.find('p', class_='instock availability').text.strip()\n",
    "        in_stock.append(product_availability)\n",
    "        \n",
    "        # Extract Description\n",
    "        description_next_page = soup_next.find('div', id='product_description')\n",
    "        description_item = None  # Initialize the description variable\n",
    "    \n",
    "        if description_next_page:\n",
    "            description_item = description_next_page.find_next('p')  # Look for the first <p> after the div\n",
    "            if description_item:\n",
    "                description_text = description_item.get_text(strip=True)\n",
    "            else:\n",
    "                # If no <p> found, grab any direct text under the div\n",
    "                description_text = description_next_page.get_text(strip=True)\n",
    "        else:\n",
    "            description_text = None\n",
    "    \n",
    "        # Append description if it's valid\n",
    "        if description_text and description_text != '$0':\n",
    "            description.append(description_text)\n",
    "        else:\n",
    "            description.append(None)\n",
    "    \n",
    "    # Create DataFrame\n",
    "    df = pd.DataFrame({\n",
    "        'Product Name': product_names,\n",
    "        'Price (£)': product_prices,\n",
    "        'Availability': in_stock,\n",
    "        'Rating': ratings,\n",
    "        'Genre': genre,\n",
    "        'UPC': upc,\n",
    "        'Description': description  # Use the description list here\n",
    "    })\n",
    "\n",
    "    rating_map = {'One': 1, 'Two': 2, 'Three': 3, 'Four': 4, 'Five': 5}\n",
    "    df['Rating'] = df['Rating'].map(rating_map)\n",
    "    filtered_df = df[(df['Rating'] >= min_rating) & (df['Price (£)'] <= max_price)]\n",
    "    return filtered_df\n",
    "\n",
    "# Example usage of the function:\n",
    "min_rating = 4  # Minimum rating\n",
    "max_price = 20  # Maximum price in GBP\n",
    "\n",
    "# Scrape and display the filtered DataFrame\n",
    "scrape_books(min_rating, max_price)"
   ]
  },
  {
   "cell_type": "code",
   "execution_count": null,
   "id": "1e30ac1a-fc50-4c31-b669-406ca3dd8f4d",
   "metadata": {},
   "outputs": [],
   "source": []
  }
 ],
 "metadata": {
  "colab": {
   "provenance": []
  },
  "kernelspec": {
   "display_name": "Python 3 (ipykernel)",
   "language": "python",
   "name": "python3"
  },
  "language_info": {
   "codemirror_mode": {
    "name": "ipython",
    "version": 3
   },
   "file_extension": ".py",
   "mimetype": "text/x-python",
   "name": "python",
   "nbconvert_exporter": "python",
   "pygments_lexer": "ipython3",
   "version": "3.12.7"
  }
 },
 "nbformat": 4,
 "nbformat_minor": 5
}
